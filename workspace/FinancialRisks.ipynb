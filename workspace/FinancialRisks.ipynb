{
 "cells": [
  {
   "cell_type": "code",
   "execution_count": 1,
   "metadata": {
    "collapsed": true
   },
   "outputs": [],
   "source": [
    "\"\"\"\n",
    "@author: Karine Serier\n",
    "\"\"\"\n",
    "\n",
    "import numpy as np\n",
    "from numpy.linalg import *\n",
    "from pylab import *\n",
    "from time import time\n",
    "from matplotlib import pyplot as mp\n",
    "import matplotlib.pylab as plt\n",
    "import math\n",
    "import random\n",
    "from random import gauss\n",
    "import scipy.stats as sps\n",
    "random.seed(1)"
   ]
  },
  {
   "cell_type": "markdown",
   "metadata": {},
   "source": [
    "# Création des n va suivant une densité"
   ]
  },
  {
   "cell_type": "code",
   "execution_count": 2,
   "metadata": {
    "collapsed": true
   },
   "outputs": [],
   "source": [
    "def normal(n):\n",
    "# Dimension\n",
    "    d = 2\n",
    "#mu\n",
    "    m = np.zeros(d)\n",
    "#covariance\n",
    "    cov = np.array([[0.95, 0.5], [0.5, 0.95]])\n",
    "    X = np.random.multivariate_normal(m, cov, size=n)\n",
    "    #plt.figure()\n",
    "    #plt.scatter(X[:, 0], X[:, 1],marker='o');\n",
    "    return X\n",
    "   \n",
    "def expo(n,lambd):\n",
    "    X=np.zeros(n)\n",
    "    for i in range(1,n):\n",
    "        X[i] = np.random.exponential(lambd);\n",
    "    #plt.figure()\n",
    "    Y=np.zeros(n);\n",
    "    #plt.scatter(X,Y,marker='o');\n",
    "    X=X.reshape(1,n);\n",
    "    return X\n",
    "    \n",
    "def mixte(n):\n",
    "    X=np.zeros(n)  \n",
    "#tirage aléatoire\n",
    "    for i in range(1,n):\n",
    "        d=np.random.rand(1)\n",
    "        if (d<=0.5):\n",
    "            X[i]=np.random.normal(1,1/3);\n",
    "        else:\n",
    "            X[i]=np.random.normal(-1,1/3);\n",
    "            \n",
    "    Y=0.1*np.ones(n);\n",
    "    #affiche les barres en position x et de hauteur Y\n",
    "    #plt.stem(X,Y);\n",
    "    X=X.reshape(1,n);\n",
    "    return X       \n",
    "\n",
    "def traceNormal(x,m,sd):\n",
    "    y=(np.exp(-pow(x-m,2)/sd))/(sd*np.sqrt(2*np.pi))\n",
    "    return y"
   ]
  },
  {
   "cell_type": "markdown",
   "metadata": {},
   "source": [
    "# Différentes largeur de fenêtre "
   ]
  },
  {
   "cell_type": "code",
   "execution_count": 3,
   "metadata": {
    "collapsed": true
   },
   "outputs": [],
   "source": [
    "#calcul de l'écart type corrigé de données en colonnes\n",
    "def sigma(X):\n",
    "    #nombre de données\n",
    "    n=X.shape[1]\n",
    "    s=0;\n",
    "\n",
    "    #calcul de la moyenne\n",
    "    m=np.sum(X,axis=1)/n;\n",
    "    print(m)\n",
    "    #calcul de l'écart\n",
    "    for i in range(1,n):\n",
    "          s= s+pow(np.linalg.norm(X[:,i]-m),2)\n",
    "    s=np.sqrt(s/(n-1));\n",
    "    return s\n",
    "   \n",
    "#calcul de l'interquartile    \n",
    "def IQR(dist):\n",
    "    return np.percentile(dist, 75) - np.percentile(dist, 25)\n",
    "    \n",
    "#les va X sont données en colonnes \n",
    "def amiseNorm(X):\n",
    "    ##nombre de variables\n",
    "    n=X.shape[1];\n",
    "    h=1.06*sigma(X)*pow(n,-1/5);\n",
    "    return h"
   ]
  },
  {
   "cell_type": "markdown",
   "metadata": {},
   "source": [
    "# Calcul du noyau de densité gaussienne "
   ]
  },
  {
   "cell_type": "code",
   "execution_count": 4,
   "metadata": {
    "collapsed": true
   },
   "outputs": [],
   "source": [
    "#les va X sont données en colonnes  \n",
    "#h est la largeur de la fenêtre  \n",
    "def kernelDens(Xd,h):\n",
    "    ##nombre de variables\n",
    "    n=Xd.shape[1]\n",
    "    x=np.linspace(min(Xd[0,:]),max(Xd[0,:]),1000);\n",
    "    y=np.zeros(len(x));\n",
    "\n",
    "    hauteur=np.zeros(n);\n",
    "    #hauteur=hauteur.reshape(1,n)\n",
    "    \n",
    "    for i in range(1,len(y)):\n",
    "        #print(i)\n",
    "        somme=0;\n",
    "        for j in range(1,n):\n",
    "            somme=somme+(np.exp(-pow((x[i]-Xd[0,j]),2)/h))/np.sqrt(2*np.pi)\n",
    "            #représentattion des gausiennes centrées sur chaque valeur\n",
    "            #plt.plot(x,traceNormal(x,Xd[0,j],h)/n);\n",
    "            #calcul de la hauteur de la loi normale\n",
    "            #hauteur[j]=max(traceNormal(x,Xd[0,j],h)/n);\n",
    "        y[i]=somme/(n*h)\n",
    "    #plt.stem(Xd[0,:],hauteur,marker='o');\n",
    "    plt.plot(x,y)  \n",
    "    return n\n",
    "#print(mixte(10)[0])\n",
    "#nombre de réalisations souhaitée\n",
    "n=500\n",
    "## m et sd : moyenne et écart type de la normale\n",
    "m=0\n",
    "sd=1\n",
    "X=np.random.normal(m,sd,n)\n",
    "X=X.reshape(1,n)\n",
    "\n",
    "xtheo=linspace(min(X[0,:]),max(X[0,:]),100)\n",
    "ytheo=traceNormal(xtheo,m,sd)\n",
    "#plt.plot(xtheo,ytheo)\n",
    "\n",
    "#kernelDens(X,0.059)   "
   ]
  },
  {
   "cell_type": "markdown",
   "metadata": {},
   "source": [
    "# Simulation des marchés suivant une loi normale multidimensionnelle de moyenne mu et de matrice de variance covariance"
   ]
  },
  {
   "cell_type": "code",
   "execution_count": 5,
   "metadata": {
    "collapsed": true
   },
   "outputs": [],
   "source": [
    "def market(mu,cov):\n",
    "    #n est le nombre de marchés donc la longueur du vecteur moyenne mu\n",
    "    n=len(mu)\n",
    "    res= np.zeros(n);\n",
    "    res = np.random.multivariate_normal(mu, cov, size=1);\n",
    "    #res.reshape(1,len(mu))\n",
    "    return res;\n",
    "\n",
    "#tests sur nombre de marchés=n\n",
    "n=5   \n",
    "m=np.random.rand(5);"
   ]
  },
  {
   "cell_type": "markdown",
   "metadata": {},
   "source": [
    "# Vérification que la matrice de covariance est semi-définie positive"
   ]
  },
  {
   "cell_type": "code",
   "execution_count": 6,
   "metadata": {
    "collapsed": true
   },
   "outputs": [],
   "source": [
    "def is_pos(x):\n",
    "    return np.all(np.linalg.eigvals(x) >= 0)   \n",
    "\n",
    "def is_pos_def(x):\n",
    "    return np.all(np.linalg.eigvals(x) > 0)\n",
    "   \n",
    "#n : taille i.e. nombres de données"
   ]
  },
  {
   "cell_type": "markdown",
   "metadata": {},
   "source": [
    "# Création d'une matrice de covariance"
   ]
  },
  {
   "cell_type": "code",
   "execution_count": 7,
   "metadata": {
    "collapsed": true
   },
   "outputs": [],
   "source": [
    "def covTest(n):\n",
    "    #initialisation avecun ematrice non positive\n",
    "    res= -1*np.ones(n**2);\n",
    "    res=res.reshape(n,n);\n",
    "    #print(np.linalg.eigvals(res))\n",
    "    #jusqu'à obtenir une matrice positive\n",
    "    while (not(is_pos(res))):\n",
    "        #print(res);\n",
    "        for i in range(0,n):\n",
    "            for j in range(i,n):\n",
    "                res[i,j]=np.random.rand(1)\n",
    "                res[j,i]=res[i,j]\n",
    "    return res;\n",
    "\n",
    "def muTest(n):\n",
    "    res=np.random.rand(n);\n",
    "    return(res)"
   ]
  },
  {
   "cell_type": "markdown",
   "metadata": {},
   "source": [
    "# Création des données suivant le nombre de données temporelles ntemps"
   ]
  },
  {
   "cell_type": "code",
   "execution_count": 8,
   "metadata": {
    "collapsed": true
   },
   "outputs": [],
   "source": [
    "def marketTest(mu,cov,nTemps):\n",
    "    #n: nombre de marchés qui va devenir le nombre de colonnes\n",
    "    n=len(mu) \n",
    "    #nTemps ets le nombre de lignes\n",
    "    res=np.zeros(n*nTemps).reshape(nTemps,n); \n",
    "    for i in range(0,nTemps):\n",
    "        #print(\"A l'instant\", i)\n",
    "        res[i,:]=market(mu,cov);\n",
    "        #print(res[i,:])\n",
    "    return res;"
   ]
  },
  {
   "cell_type": "markdown",
   "metadata": {},
   "source": [
    "# Tests"
   ]
  },
  {
   "cell_type": "code",
   "execution_count": 9,
   "metadata": {
    "collapsed": true
   },
   "outputs": [],
   "source": [
    "##nombre de marchés    \n",
    "n=2\n",
    "##nombre d'instants où sont relevés les marchés\n",
    "nTemps=5\n",
    "    \n",
    "#a=covTest(n) \n",
    "#print(a) \n",
    "#print(np.linalg.eigvals(a))\n",
    "#print(is_pos_def(a))   \n",
    "#print(is_pos(a)) \n",
    "#print(\"vecteur moyenne\")\n",
    "#print(muTest(n))\n",
    "#print(\"matrice de covariance\")\n",
    "#print(covTest(n))\n",
    "#\n",
    "#market1=marketTest(muTest(n),covTest(n),5)       \n",
    "#print(\"réalisations des marchés\")\n",
    "#print(market1)\n",
    "#"
   ]
  },
  {
   "cell_type": "markdown",
   "metadata": {},
   "source": [
    "# Test sur un porte-feuille de 1000 réparti en nb actions"
   ]
  },
  {
   "cell_type": "code",
   "execution_count": 10,
   "metadata": {
    "collapsed": false
   },
   "outputs": [
    {
     "name": "stdout",
     "output_type": "stream",
     "text": [
      "taille\n",
      "[[ 333.]\n",
      " [ 333.]\n",
      " [ 333.]]\n",
      "coeff\n",
      "[[  1.06717501e-05   7.44153975e-03   4.72963186e-04]\n",
      " [  4.87420635e-04   9.21668783e-03   1.78622705e-03]\n",
      " [  8.80395296e-03   8.36103907e-03   8.01844924e-03]]\n",
      "intercept\n",
      "[[ 0.21259432]\n",
      " [ 0.38562971]\n",
      " [ 0.14290892]]\n",
      "[[ 2.85167749]\n",
      " [ 4.21191143]\n",
      " [ 8.52899486]]\n"
     ]
    }
   ],
   "source": [
    "nb=3\n",
    "f=1000/nb*np.ones(nb)\n",
    "\n",
    "# f valeur du porte-feuille : 1 ligne et n colonnes\n",
    "def returnFact(f):\n",
    "    n=len(f);\n",
    "    f=f.reshape(n,1)\n",
    "    res=np.zeros(n);\n",
    "    res=res.reshape(1,n);\n",
    "    print('taille')\n",
    "    print(f)\n",
    "    #matrice des coefficients , la divion par 100 est pour avoir des retours\n",
    "    # de l'ordre du 1% max\n",
    "    W=np.random.random(n**2)/100;\n",
    "    W=W.reshape(n,n)\n",
    "    print('coeff');\n",
    "    print(W);\n",
    "    #vecteur de l'intercept\n",
    "    c=np.random.random(n);\n",
    "    c=c.reshape(n,1);\n",
    "    print('intercept');\n",
    "    print(c);\n",
    "\n",
    "    res=np.dot(W,f)+c;\n",
    "    #print('res')\n",
    "    #print(res)\n",
    "    #res=res.reshape(1,n)\n",
    "    return (res)\n",
    "\n",
    "print(returnFact(f))\n",
    "\n",
    "\n",
    "##définition du porte-feuille ayant 10 actions\n",
    "# f :vecteur contenant les valeurs des actions\n",
    "def portfolio(x):\n",
    "    #nombre des actions\n",
    "    n=len(x);"
   ]
  },
  {
   "cell_type": "code",
   "execution_count": null,
   "metadata": {
    "collapsed": true
   },
   "outputs": [],
   "source": []
  }
 ],
 "metadata": {
  "kernelspec": {
   "display_name": "Python 2",
   "language": "python",
   "name": "python2"
  },
  "language_info": {
   "codemirror_mode": {
    "name": "ipython",
    "version": 2
   },
   "file_extension": ".py",
   "mimetype": "text/x-python",
   "name": "python",
   "nbconvert_exporter": "python",
   "pygments_lexer": "ipython2",
   "version": "2.7.13"
  }
 },
 "nbformat": 4,
 "nbformat_minor": 2
}
